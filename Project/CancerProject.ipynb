{
 "cells": [
  {
   "cell_type": "markdown",
   "metadata": {},
   "source": [
    "# Basic Project: \n",
    "\n",
    "( This project was one of the tasks for a course that I did on ML and Data Science)\n",
    "\n",
    "This is a copy of UCI ML Cancer Wisconsin (Diagnostic) datasets. Features are computed from a digitized image of a fine needle aspirate (FNA) of a mass. They describe characteristics of the cell nuclei present in the image.\n",
    "\n",
    "The aim is to predict whether the cancer is benign or malignant."
   ]
  },
  {
   "cell_type": "code",
   "execution_count": 1,
   "metadata": {},
   "outputs": [],
   "source": [
    "import numpy as np\n",
    "import pandas as pd\n",
    "import seaborn as sns\n",
    "import matplotlib.pyplot as plt\n",
    "%matplotlib inline"
   ]
  },
  {
   "cell_type": "code",
   "execution_count": 2,
   "metadata": {},
   "outputs": [],
   "source": [
    "df = pd.read_csv('cancer_classification.csv')"
   ]
  },
  {
   "cell_type": "code",
   "execution_count": 3,
   "metadata": {},
   "outputs": [
    {
     "data": {
      "text/html": [
       "<div>\n",
       "<style scoped>\n",
       "    .dataframe tbody tr th:only-of-type {\n",
       "        vertical-align: middle;\n",
       "    }\n",
       "\n",
       "    .dataframe tbody tr th {\n",
       "        vertical-align: top;\n",
       "    }\n",
       "\n",
       "    .dataframe thead th {\n",
       "        text-align: right;\n",
       "    }\n",
       "</style>\n",
       "<table border=\"1\" class=\"dataframe\">\n",
       "  <thead>\n",
       "    <tr style=\"text-align: right;\">\n",
       "      <th></th>\n",
       "      <th>mean radius</th>\n",
       "      <th>mean texture</th>\n",
       "      <th>mean perimeter</th>\n",
       "      <th>mean area</th>\n",
       "      <th>mean smoothness</th>\n",
       "      <th>mean compactness</th>\n",
       "      <th>mean concavity</th>\n",
       "      <th>mean concave points</th>\n",
       "      <th>mean symmetry</th>\n",
       "      <th>mean fractal dimension</th>\n",
       "      <th>...</th>\n",
       "      <th>worst texture</th>\n",
       "      <th>worst perimeter</th>\n",
       "      <th>worst area</th>\n",
       "      <th>worst smoothness</th>\n",
       "      <th>worst compactness</th>\n",
       "      <th>worst concavity</th>\n",
       "      <th>worst concave points</th>\n",
       "      <th>worst symmetry</th>\n",
       "      <th>worst fractal dimension</th>\n",
       "      <th>benign_0__mal_1</th>\n",
       "    </tr>\n",
       "  </thead>\n",
       "  <tbody>\n",
       "    <tr>\n",
       "      <td>0</td>\n",
       "      <td>17.99</td>\n",
       "      <td>10.38</td>\n",
       "      <td>122.80</td>\n",
       "      <td>1001.0</td>\n",
       "      <td>0.11840</td>\n",
       "      <td>0.27760</td>\n",
       "      <td>0.3001</td>\n",
       "      <td>0.14710</td>\n",
       "      <td>0.2419</td>\n",
       "      <td>0.07871</td>\n",
       "      <td>...</td>\n",
       "      <td>17.33</td>\n",
       "      <td>184.60</td>\n",
       "      <td>2019.0</td>\n",
       "      <td>0.1622</td>\n",
       "      <td>0.6656</td>\n",
       "      <td>0.7119</td>\n",
       "      <td>0.2654</td>\n",
       "      <td>0.4601</td>\n",
       "      <td>0.11890</td>\n",
       "      <td>0</td>\n",
       "    </tr>\n",
       "    <tr>\n",
       "      <td>1</td>\n",
       "      <td>20.57</td>\n",
       "      <td>17.77</td>\n",
       "      <td>132.90</td>\n",
       "      <td>1326.0</td>\n",
       "      <td>0.08474</td>\n",
       "      <td>0.07864</td>\n",
       "      <td>0.0869</td>\n",
       "      <td>0.07017</td>\n",
       "      <td>0.1812</td>\n",
       "      <td>0.05667</td>\n",
       "      <td>...</td>\n",
       "      <td>23.41</td>\n",
       "      <td>158.80</td>\n",
       "      <td>1956.0</td>\n",
       "      <td>0.1238</td>\n",
       "      <td>0.1866</td>\n",
       "      <td>0.2416</td>\n",
       "      <td>0.1860</td>\n",
       "      <td>0.2750</td>\n",
       "      <td>0.08902</td>\n",
       "      <td>0</td>\n",
       "    </tr>\n",
       "    <tr>\n",
       "      <td>2</td>\n",
       "      <td>19.69</td>\n",
       "      <td>21.25</td>\n",
       "      <td>130.00</td>\n",
       "      <td>1203.0</td>\n",
       "      <td>0.10960</td>\n",
       "      <td>0.15990</td>\n",
       "      <td>0.1974</td>\n",
       "      <td>0.12790</td>\n",
       "      <td>0.2069</td>\n",
       "      <td>0.05999</td>\n",
       "      <td>...</td>\n",
       "      <td>25.53</td>\n",
       "      <td>152.50</td>\n",
       "      <td>1709.0</td>\n",
       "      <td>0.1444</td>\n",
       "      <td>0.4245</td>\n",
       "      <td>0.4504</td>\n",
       "      <td>0.2430</td>\n",
       "      <td>0.3613</td>\n",
       "      <td>0.08758</td>\n",
       "      <td>0</td>\n",
       "    </tr>\n",
       "    <tr>\n",
       "      <td>3</td>\n",
       "      <td>11.42</td>\n",
       "      <td>20.38</td>\n",
       "      <td>77.58</td>\n",
       "      <td>386.1</td>\n",
       "      <td>0.14250</td>\n",
       "      <td>0.28390</td>\n",
       "      <td>0.2414</td>\n",
       "      <td>0.10520</td>\n",
       "      <td>0.2597</td>\n",
       "      <td>0.09744</td>\n",
       "      <td>...</td>\n",
       "      <td>26.50</td>\n",
       "      <td>98.87</td>\n",
       "      <td>567.7</td>\n",
       "      <td>0.2098</td>\n",
       "      <td>0.8663</td>\n",
       "      <td>0.6869</td>\n",
       "      <td>0.2575</td>\n",
       "      <td>0.6638</td>\n",
       "      <td>0.17300</td>\n",
       "      <td>0</td>\n",
       "    </tr>\n",
       "    <tr>\n",
       "      <td>4</td>\n",
       "      <td>20.29</td>\n",
       "      <td>14.34</td>\n",
       "      <td>135.10</td>\n",
       "      <td>1297.0</td>\n",
       "      <td>0.10030</td>\n",
       "      <td>0.13280</td>\n",
       "      <td>0.1980</td>\n",
       "      <td>0.10430</td>\n",
       "      <td>0.1809</td>\n",
       "      <td>0.05883</td>\n",
       "      <td>...</td>\n",
       "      <td>16.67</td>\n",
       "      <td>152.20</td>\n",
       "      <td>1575.0</td>\n",
       "      <td>0.1374</td>\n",
       "      <td>0.2050</td>\n",
       "      <td>0.4000</td>\n",
       "      <td>0.1625</td>\n",
       "      <td>0.2364</td>\n",
       "      <td>0.07678</td>\n",
       "      <td>0</td>\n",
       "    </tr>\n",
       "  </tbody>\n",
       "</table>\n",
       "<p>5 rows × 31 columns</p>\n",
       "</div>"
      ],
      "text/plain": [
       "   mean radius  mean texture  mean perimeter  mean area  mean smoothness  \\\n",
       "0        17.99         10.38          122.80     1001.0          0.11840   \n",
       "1        20.57         17.77          132.90     1326.0          0.08474   \n",
       "2        19.69         21.25          130.00     1203.0          0.10960   \n",
       "3        11.42         20.38           77.58      386.1          0.14250   \n",
       "4        20.29         14.34          135.10     1297.0          0.10030   \n",
       "\n",
       "   mean compactness  mean concavity  mean concave points  mean symmetry  \\\n",
       "0           0.27760          0.3001              0.14710         0.2419   \n",
       "1           0.07864          0.0869              0.07017         0.1812   \n",
       "2           0.15990          0.1974              0.12790         0.2069   \n",
       "3           0.28390          0.2414              0.10520         0.2597   \n",
       "4           0.13280          0.1980              0.10430         0.1809   \n",
       "\n",
       "   mean fractal dimension  ...  worst texture  worst perimeter  worst area  \\\n",
       "0                 0.07871  ...          17.33           184.60      2019.0   \n",
       "1                 0.05667  ...          23.41           158.80      1956.0   \n",
       "2                 0.05999  ...          25.53           152.50      1709.0   \n",
       "3                 0.09744  ...          26.50            98.87       567.7   \n",
       "4                 0.05883  ...          16.67           152.20      1575.0   \n",
       "\n",
       "   worst smoothness  worst compactness  worst concavity  worst concave points  \\\n",
       "0            0.1622             0.6656           0.7119                0.2654   \n",
       "1            0.1238             0.1866           0.2416                0.1860   \n",
       "2            0.1444             0.4245           0.4504                0.2430   \n",
       "3            0.2098             0.8663           0.6869                0.2575   \n",
       "4            0.1374             0.2050           0.4000                0.1625   \n",
       "\n",
       "   worst symmetry  worst fractal dimension  benign_0__mal_1  \n",
       "0          0.4601                  0.11890                0  \n",
       "1          0.2750                  0.08902                0  \n",
       "2          0.3613                  0.08758                0  \n",
       "3          0.6638                  0.17300                0  \n",
       "4          0.2364                  0.07678                0  \n",
       "\n",
       "[5 rows x 31 columns]"
      ]
     },
     "execution_count": 3,
     "metadata": {},
     "output_type": "execute_result"
    }
   ],
   "source": [
    "df.head()"
   ]
  },
  {
   "cell_type": "code",
   "execution_count": 4,
   "metadata": {},
   "outputs": [
    {
     "name": "stdout",
     "output_type": "stream",
     "text": [
      "<class 'pandas.core.frame.DataFrame'>\n",
      "RangeIndex: 569 entries, 0 to 568\n",
      "Data columns (total 31 columns):\n",
      "mean radius                569 non-null float64\n",
      "mean texture               569 non-null float64\n",
      "mean perimeter             569 non-null float64\n",
      "mean area                  569 non-null float64\n",
      "mean smoothness            569 non-null float64\n",
      "mean compactness           569 non-null float64\n",
      "mean concavity             569 non-null float64\n",
      "mean concave points        569 non-null float64\n",
      "mean symmetry              569 non-null float64\n",
      "mean fractal dimension     569 non-null float64\n",
      "radius error               569 non-null float64\n",
      "texture error              569 non-null float64\n",
      "perimeter error            569 non-null float64\n",
      "area error                 569 non-null float64\n",
      "smoothness error           569 non-null float64\n",
      "compactness error          569 non-null float64\n",
      "concavity error            569 non-null float64\n",
      "concave points error       569 non-null float64\n",
      "symmetry error             569 non-null float64\n",
      "fractal dimension error    569 non-null float64\n",
      "worst radius               569 non-null float64\n",
      "worst texture              569 non-null float64\n",
      "worst perimeter            569 non-null float64\n",
      "worst area                 569 non-null float64\n",
      "worst smoothness           569 non-null float64\n",
      "worst compactness          569 non-null float64\n",
      "worst concavity            569 non-null float64\n",
      "worst concave points       569 non-null float64\n",
      "worst symmetry             569 non-null float64\n",
      "worst fractal dimension    569 non-null float64\n",
      "benign_0__mal_1            569 non-null int64\n",
      "dtypes: float64(30), int64(1)\n",
      "memory usage: 137.9 KB\n"
     ]
    }
   ],
   "source": [
    "df.info()"
   ]
  },
  {
   "cell_type": "code",
   "execution_count": 38,
   "metadata": {},
   "outputs": [],
   "source": [
    "# Now we perform some basic exploratory data analysis : "
   ]
  },
  {
   "cell_type": "code",
   "execution_count": 5,
   "metadata": {},
   "outputs": [
    {
     "data": {
      "text/plain": [
       "<matplotlib.axes._subplots.AxesSubplot at 0x7fbcbb1c4fd0>"
      ]
     },
     "execution_count": 5,
     "metadata": {},
     "output_type": "execute_result"
    },
    {
     "data": {
      "image/png": "[encoded data removed]",
      "text/plain": [
       "<Figure size 432x288 with 1 Axes>"
      ]
     },
     "metadata": {
      "needs_background": "light"
     },
     "output_type": "display_data"
    }
   ],
   "source": [
    "sns.countplot(x = 'benign_0__mal_1',data = df)"
   ]
  },
  {
   "cell_type": "code",
   "execution_count": 6,
   "metadata": {},
   "outputs": [
    {
     "data": {
      "text/plain": [
       "<matplotlib.axes._subplots.AxesSubplot at 0x7fbcbb1c4550>"
      ]
     },
     "execution_count": 6,
     "metadata": {},
     "output_type": "execute_result"
    },
    {
     "data": {
      "image/png": "[encoded data removed]",
      "text/plain": [
       "<Figure size 432x288 with 1 Axes>"
      ]
     },
     "metadata": {
      "needs_background": "light"
     },
     "output_type": "display_data"
    }
   ],
   "source": [
    "df.corr()['benign_0__mal_1'][:-1].sort_values().plot(kind = 'bar')"
   ]
  },
  {
   "cell_type": "code",
   "execution_count": 7,
   "metadata": {},
   "outputs": [
    {
     "data": {
      "text/plain": [
       "<matplotlib.axes._subplots.AxesSubplot at 0x7fbcbb3da3d0>"
      ]
     },
     "execution_count": 7,
     "metadata": {},
     "output_type": "execute_result"
    },
    {
     "data": {
      "image/png": "[encoded data removed]",
      "text/plain": [
       "<Figure size 864x432 with 2 Axes>"
      ]
     },
     "metadata": {
      "needs_background": "light"
     },
     "output_type": "display_data"
    }
   ],
   "source": [
    "plt.figure(figsize=(12,6))\n",
    "sns.heatmap(df.corr())"
   ]
  },
  {
   "cell_type": "code",
   "execution_count": 8,
   "metadata": {},
   "outputs": [],
   "source": [
    "# Train test split :\n",
    "X = df.drop('benign_0__mal_1',axis = 1)\n",
    "y = df['benign_0__mal_1']"
   ]
  },
  {
   "cell_type": "code",
   "execution_count": 9,
   "metadata": {},
   "outputs": [],
   "source": [
    "from sklearn.model_selection import train_test_split"
   ]
  },
  {
   "cell_type": "code",
   "execution_count": 10,
   "metadata": {},
   "outputs": [],
   "source": [
    "X_train, X_test, y_train, y_test = train_test_split(X, y, test_size=0.25, random_state=101)"
   ]
  },
  {
   "cell_type": "code",
   "execution_count": 11,
   "metadata": {},
   "outputs": [],
   "source": [
    "from sklearn.preprocessing import MinMaxScaler"
   ]
  },
  {
   "cell_type": "code",
   "execution_count": 12,
   "metadata": {},
   "outputs": [],
   "source": [
    "scale = MinMaxScaler()"
   ]
  },
  {
   "cell_type": "code",
   "execution_count": 13,
   "metadata": {},
   "outputs": [
    {
     "data": {
      "text/plain": [
       "MinMaxScaler(copy=True, feature_range=(0, 1))"
      ]
     },
     "execution_count": 13,
     "metadata": {},
     "output_type": "execute_result"
    }
   ],
   "source": [
    "scale.fit(X_train)"
   ]
  },
  {
   "cell_type": "code",
   "execution_count": 14,
   "metadata": {},
   "outputs": [],
   "source": [
    "X_train = scale.transform(X_train)\n",
    "X_test = scale.transform(X_test)"
   ]
  },
  {
   "cell_type": "code",
   "execution_count": 15,
   "metadata": {},
   "outputs": [
    {
     "data": {
      "text/plain": [
       "(426, 30)"
      ]
     },
     "execution_count": 15,
     "metadata": {},
     "output_type": "execute_result"
    }
   ],
   "source": [
    "from tensorflow.keras.models import Sequential\n",
    "from tensorflow.keras.layers import Dense,Dropout\n",
    "X_train.shape"
   ]
  },
  {
   "cell_type": "code",
   "execution_count": 22,
   "metadata": {},
   "outputs": [],
   "source": [
    "from tensorflow.keras.callbacks import EarlyStopping"
   ]
  },
  {
   "cell_type": "code",
   "execution_count": 24,
   "metadata": {},
   "outputs": [],
   "source": [
    "early_stop = EarlyStopping(monitor = 'val_loss',mode = 'min',verbose = 1,patience = 15)"
   ]
  },
  {
   "cell_type": "code",
   "execution_count": 27,
   "metadata": {},
   "outputs": [
    {
     "data": {
      "text/plain": [
       "<matplotlib.axes._subplots.AxesSubplot at 0x7fbca353d4d0>"
      ]
     },
     "execution_count": 27,
     "metadata": {},
     "output_type": "execute_result"
    },
    {
     "data": {
      "image/png": "[encoded data removed]",
      "text/plain": [
       "<Figure size 432x288 with 1 Axes>"
      ]
     },
     "metadata": {
      "needs_background": "light"
     },
     "output_type": "display_data"
    }
   ],
   "source": [
    "losses = pd.DataFrame(model.history.history)\n",
    "losses.plot()"
   ]
  },
  {
   "cell_type": "code",
   "execution_count": 28,
   "metadata": {},
   "outputs": [],
   "source": [
    "# now lets use Dropout layers which drop a certain percentage of neurons to prevent overfitting"
   ]
  },
  {
   "cell_type": "code",
   "execution_count": 29,
   "metadata": {},
   "outputs": [],
   "source": [
    "from tensorflow.keras.layers import Dropout"
   ]
  },
  {
   "cell_type": "code",
   "execution_count": 30,
   "metadata": {},
   "outputs": [],
   "source": [
    "model = Sequential()\n",
    "\n",
    "model.add(Dense(units=30,activation='relu'))\n",
    "model.add(Dropout(0.5))\n",
    "\n",
    "model.add(Dense(units=15,activation='relu'))\n",
    "model.add(Dropout(0.5))\n",
    "\n",
    "model.add(Dense(units=1,activation='sigmoid'))\n",
    "\n",
    "# For a binary classification problem\n",
    "model.compile(loss='binary_crossentropy', optimizer='adam')"
   ]
  },
  {
   "cell_type": "code",
   "execution_count": 31,
   "metadata": {},
   "outputs": [
    {
     "name": "stdout",
     "output_type": "stream",
     "text": [
      "Epoch 1/600\n",
      "14/14 [==============================] - 0s 7ms/step - loss: 0.6958 - val_loss: 0.6862\n",
      "Epoch 2/600\n",
      "14/14 [==============================] - 0s 5ms/step - loss: 0.6884 - val_loss: 0.6671\n",
      "Epoch 3/600\n",
      "14/14 [==============================] - 0s 3ms/step - loss: 0.6616 - val_loss: 0.6486\n",
      "Epoch 4/600\n",
      "14/14 [==============================] - 0s 4ms/step - loss: 0.6361 - val_loss: 0.6224\n",
      "Epoch 5/600\n",
      "14/14 [==============================] - 0s 4ms/step - loss: 0.6132 - val_loss: 0.5935\n",
      "Epoch 6/600\n",
      "14/14 [==============================] - 0s 4ms/step - loss: 0.6002 - val_loss: 0.5675\n",
      "Epoch 7/600\n",
      "14/14 [==============================] - 0s 3ms/step - loss: 0.5633 - val_loss: 0.5432\n",
      "Epoch 8/600\n",
      "14/14 [==============================] - 0s 3ms/step - loss: 0.5462 - val_loss: 0.5123\n",
      "Epoch 9/600\n",
      "14/14 [==============================] - 0s 4ms/step - loss: 0.5012 - val_loss: 0.4719\n",
      "Epoch 10/600\n",
      "14/14 [==============================] - 0s 12ms/step - loss: 0.5061 - val_loss: 0.4387\n",
      "Epoch 11/600\n",
      "14/14 [==============================] - 0s 4ms/step - loss: 0.4801 - val_loss: 0.4091\n",
      "Epoch 12/600\n",
      "14/14 [==============================] - 0s 4ms/step - loss: 0.4385 - val_loss: 0.3771\n",
      "Epoch 13/600\n",
      "14/14 [==============================] - 0s 4ms/step - loss: 0.4256 - val_loss: 0.3506\n",
      "Epoch 14/600\n",
      "14/14 [==============================] - 0s 3ms/step - loss: 0.4008 - val_loss: 0.3239\n",
      "Epoch 15/600\n",
      "14/14 [==============================] - 0s 3ms/step - loss: 0.3802 - val_loss: 0.3100\n",
      "Epoch 16/600\n",
      "14/14 [==============================] - 0s 4ms/step - loss: 0.3770 - val_loss: 0.2936\n",
      "Epoch 17/600\n",
      "14/14 [==============================] - 0s 3ms/step - loss: 0.3786 - val_loss: 0.2745\n",
      "Epoch 18/600\n",
      "14/14 [==============================] - 0s 3ms/step - loss: 0.3444 - val_loss: 0.2584\n",
      "Epoch 19/600\n",
      "14/14 [==============================] - 0s 4ms/step - loss: 0.3396 - val_loss: 0.2443\n",
      "Epoch 20/600\n",
      "14/14 [==============================] - 0s 3ms/step - loss: 0.3157 - val_loss: 0.2324\n",
      "Epoch 21/600\n",
      "14/14 [==============================] - 0s 4ms/step - loss: 0.3150 - val_loss: 0.2180\n",
      "Epoch 22/600\n",
      "14/14 [==============================] - 0s 4ms/step - loss: 0.3247 - val_loss: 0.2174\n",
      "Epoch 23/600\n",
      "14/14 [==============================] - 0s 4ms/step - loss: 0.2944 - val_loss: 0.2053\n",
      "Epoch 24/600\n",
      "14/14 [==============================] - 0s 4ms/step - loss: 0.2776 - val_loss: 0.1976\n",
      "Epoch 25/600\n",
      "14/14 [==============================] - 0s 4ms/step - loss: 0.2844 - val_loss: 0.2032\n",
      "Epoch 26/600\n",
      "14/14 [==============================] - 0s 3ms/step - loss: 0.2792 - val_loss: 0.1886\n",
      "Epoch 27/600\n",
      "14/14 [==============================] - 0s 4ms/step - loss: 0.2564 - val_loss: 0.1754\n",
      "Epoch 28/600\n",
      "14/14 [==============================] - 0s 4ms/step - loss: 0.2876 - val_loss: 0.1753\n",
      "Epoch 29/600\n",
      "14/14 [==============================] - 0s 4ms/step - loss: 0.2490 - val_loss: 0.1699\n",
      "Epoch 30/600\n",
      "14/14 [==============================] - 0s 3ms/step - loss: 0.2504 - val_loss: 0.1662\n",
      "Epoch 31/600\n",
      "14/14 [==============================] - 0s 4ms/step - loss: 0.2492 - val_loss: 0.1663\n",
      "Epoch 32/600\n",
      "14/14 [==============================] - 0s 4ms/step - loss: 0.2518 - val_loss: 0.1605\n",
      "Epoch 33/600\n",
      "14/14 [==============================] - 0s 5ms/step - loss: 0.2491 - val_loss: 0.1527\n",
      "Epoch 34/600\n",
      "14/14 [==============================] - 0s 7ms/step - loss: 0.2120 - val_loss: 0.1513\n",
      "Epoch 35/600\n",
      "14/14 [==============================] - 0s 5ms/step - loss: 0.2321 - val_loss: 0.1562\n",
      "Epoch 36/600\n",
      "14/14 [==============================] - 0s 5ms/step - loss: 0.2347 - val_loss: 0.1519\n",
      "Epoch 37/600\n",
      "14/14 [==============================] - 0s 6ms/step - loss: 0.2148 - val_loss: 0.1469\n",
      "Epoch 38/600\n",
      "14/14 [==============================] - 0s 6ms/step - loss: 0.2161 - val_loss: 0.1398\n",
      "Epoch 39/600\n",
      "14/14 [==============================] - 0s 4ms/step - loss: 0.2337 - val_loss: 0.1416\n",
      "Epoch 40/600\n",
      "14/14 [==============================] - 0s 3ms/step - loss: 0.2278 - val_loss: 0.1411\n",
      "Epoch 41/600\n",
      "14/14 [==============================] - 0s 4ms/step - loss: 0.2119 - val_loss: 0.1392\n",
      "Epoch 42/600\n",
      "14/14 [==============================] - 0s 3ms/step - loss: 0.1825 - val_loss: 0.1431\n",
      "Epoch 43/600\n",
      "14/14 [==============================] - 0s 4ms/step - loss: 0.1988 - val_loss: 0.1303\n",
      "Epoch 44/600\n",
      "14/14 [==============================] - 0s 4ms/step - loss: 0.1992 - val_loss: 0.1320\n",
      "Epoch 45/600\n",
      "14/14 [==============================] - 0s 4ms/step - loss: 0.1984 - val_loss: 0.1310\n",
      "Epoch 46/600\n",
      "14/14 [==============================] - 0s 4ms/step - loss: 0.1789 - val_loss: 0.1230\n",
      "Epoch 47/600\n",
      "14/14 [==============================] - 0s 4ms/step - loss: 0.1731 - val_loss: 0.1219\n",
      "Epoch 48/600\n",
      "14/14 [==============================] - 0s 3ms/step - loss: 0.1703 - val_loss: 0.1281\n",
      "Epoch 49/600\n",
      "14/14 [==============================] - 0s 4ms/step - loss: 0.1820 - val_loss: 0.1191\n",
      "Epoch 50/600\n",
      "14/14 [==============================] - 0s 3ms/step - loss: 0.1765 - val_loss: 0.1190\n",
      "Epoch 51/600\n",
      "14/14 [==============================] - 0s 3ms/step - loss: 0.2059 - val_loss: 0.1312\n",
      "Epoch 52/600\n",
      "14/14 [==============================] - 0s 4ms/step - loss: 0.1734 - val_loss: 0.1169\n",
      "Epoch 53/600\n",
      "14/14 [==============================] - 0s 4ms/step - loss: 0.1576 - val_loss: 0.1161\n",
      "Epoch 54/600\n",
      "14/14 [==============================] - 0s 3ms/step - loss: 0.1472 - val_loss: 0.1196\n",
      "Epoch 55/600\n",
      "14/14 [==============================] - 0s 3ms/step - loss: 0.1910 - val_loss: 0.1128\n",
      "Epoch 56/600\n",
      "14/14 [==============================] - 0s 4ms/step - loss: 0.1866 - val_loss: 0.1257\n",
      "Epoch 57/600\n",
      "14/14 [==============================] - 0s 3ms/step - loss: 0.1613 - val_loss: 0.1116\n",
      "Epoch 58/600\n",
      "14/14 [==============================] - 0s 3ms/step - loss: 0.1538 - val_loss: 0.1153\n",
      "Epoch 59/600\n",
      "14/14 [==============================] - 0s 3ms/step - loss: 0.1587 - val_loss: 0.1170\n",
      "Epoch 60/600\n",
      "14/14 [==============================] - 0s 3ms/step - loss: 0.1499 - val_loss: 0.1122\n",
      "Epoch 61/600\n",
      "14/14 [==============================] - 0s 3ms/step - loss: 0.1702 - val_loss: 0.1253\n",
      "Epoch 62/600\n",
      "14/14 [==============================] - 0s 3ms/step - loss: 0.1561 - val_loss: 0.1124\n",
      "Epoch 63/600\n",
      "14/14 [==============================] - 0s 3ms/step - loss: 0.1711 - val_loss: 0.1101\n",
      "Epoch 64/600\n",
      "14/14 [==============================] - 0s 3ms/step - loss: 0.1336 - val_loss: 0.1165\n",
      "Epoch 65/600\n",
      "14/14 [==============================] - 0s 3ms/step - loss: 0.1499 - val_loss: 0.1107\n",
      "Epoch 66/600\n",
      "14/14 [==============================] - 0s 3ms/step - loss: 0.1313 - val_loss: 0.1114\n",
      "Epoch 67/600\n",
      "14/14 [==============================] - 0s 3ms/step - loss: 0.1216 - val_loss: 0.1123\n",
      "Epoch 68/600\n",
      "14/14 [==============================] - 0s 3ms/step - loss: 0.1388 - val_loss: 0.1171\n",
      "Epoch 69/600\n",
      "14/14 [==============================] - 0s 3ms/step - loss: 0.1501 - val_loss: 0.1136\n",
      "Epoch 70/600\n",
      "14/14 [==============================] - 0s 4ms/step - loss: 0.1642 - val_loss: 0.1028\n",
      "Epoch 71/600\n",
      "14/14 [==============================] - 0s 4ms/step - loss: 0.1477 - val_loss: 0.1042\n",
      "Epoch 72/600\n",
      "14/14 [==============================] - 0s 3ms/step - loss: 0.1265 - val_loss: 0.1148\n",
      "Epoch 73/600\n",
      "14/14 [==============================] - 0s 3ms/step - loss: 0.1458 - val_loss: 0.1060\n",
      "Epoch 74/600\n",
      "14/14 [==============================] - 0s 3ms/step - loss: 0.1276 - val_loss: 0.1036\n",
      "Epoch 75/600\n",
      "14/14 [==============================] - 0s 3ms/step - loss: 0.1241 - val_loss: 0.1084\n",
      "Epoch 76/600\n",
      "14/14 [==============================] - 0s 3ms/step - loss: 0.1430 - val_loss: 0.1135\n",
      "Epoch 77/600\n",
      "14/14 [==============================] - 0s 3ms/step - loss: 0.1376 - val_loss: 0.1071\n",
      "Epoch 78/600\n",
      "14/14 [==============================] - 0s 3ms/step - loss: 0.1230 - val_loss: 0.1016\n",
      "Epoch 79/600\n",
      "14/14 [==============================] - 0s 3ms/step - loss: 0.1244 - val_loss: 0.1048\n",
      "Epoch 80/600\n",
      "14/14 [==============================] - 0s 3ms/step - loss: 0.1143 - val_loss: 0.1071\n",
      "Epoch 81/600\n",
      "14/14 [==============================] - 0s 3ms/step - loss: 0.1216 - val_loss: 0.1144\n",
      "Epoch 82/600\n",
      "14/14 [==============================] - 0s 3ms/step - loss: 0.1342 - val_loss: 0.1011\n",
      "Epoch 83/600\n"
     ]
    },
    {
     "name": "stdout",
     "output_type": "stream",
     "text": [
      "14/14 [==============================] - 0s 3ms/step - loss: 0.1283 - val_loss: 0.1010\n",
      "Epoch 84/600\n",
      "14/14 [==============================] - 0s 4ms/step - loss: 0.1117 - val_loss: 0.1087\n",
      "Epoch 85/600\n",
      "14/14 [==============================] - 0s 3ms/step - loss: 0.1135 - val_loss: 0.1022\n",
      "Epoch 86/600\n",
      "14/14 [==============================] - 0s 3ms/step - loss: 0.1246 - val_loss: 0.1026\n",
      "Epoch 87/600\n",
      "14/14 [==============================] - 0s 3ms/step - loss: 0.1141 - val_loss: 0.1001\n",
      "Epoch 88/600\n",
      "14/14 [==============================] - 0s 3ms/step - loss: 0.1205 - val_loss: 0.1267\n",
      "Epoch 89/600\n",
      "14/14 [==============================] - 0s 3ms/step - loss: 0.1065 - val_loss: 0.1152\n",
      "Epoch 90/600\n",
      "14/14 [==============================] - 0s 3ms/step - loss: 0.1348 - val_loss: 0.1120\n",
      "Epoch 91/600\n",
      "14/14 [==============================] - 0s 3ms/step - loss: 0.1200 - val_loss: 0.1071\n",
      "Epoch 92/600\n",
      "14/14 [==============================] - 0s 3ms/step - loss: 0.1040 - val_loss: 0.1024\n",
      "Epoch 93/600\n",
      "14/14 [==============================] - 0s 4ms/step - loss: 0.1086 - val_loss: 0.1026\n",
      "Epoch 94/600\n",
      "14/14 [==============================] - 0s 4ms/step - loss: 0.1065 - val_loss: 0.1026\n",
      "Epoch 95/600\n",
      "14/14 [==============================] - 0s 3ms/step - loss: 0.0925 - val_loss: 0.1073\n",
      "Epoch 96/600\n",
      "14/14 [==============================] - 0s 4ms/step - loss: 0.0995 - val_loss: 0.1079\n",
      "Epoch 97/600\n",
      "14/14 [==============================] - 0s 3ms/step - loss: 0.0879 - val_loss: 0.1131\n",
      "Epoch 98/600\n",
      "14/14 [==============================] - 0s 3ms/step - loss: 0.1049 - val_loss: 0.1111\n",
      "Epoch 99/600\n",
      "14/14 [==============================] - 0s 3ms/step - loss: 0.0914 - val_loss: 0.1167\n",
      "Epoch 100/600\n",
      "14/14 [==============================] - 0s 4ms/step - loss: 0.1099 - val_loss: 0.1060\n",
      "Epoch 101/600\n",
      "14/14 [==============================] - 0s 3ms/step - loss: 0.1145 - val_loss: 0.1115\n",
      "Epoch 102/600\n",
      "14/14 [==============================] - 0s 3ms/step - loss: 0.1072 - val_loss: 0.1026\n",
      "Epoch 00102: early stopping\n"
     ]
    },
    {
     "data": {
      "text/plain": [
       "<tensorflow.python.keras.callbacks.History at 0x7fbca35266d0>"
      ]
     },
     "execution_count": 31,
     "metadata": {},
     "output_type": "execute_result"
    }
   ],
   "source": [
    "# We use droput along with EarlyStoppin to minimize overfitting as much as possible\n",
    "model.fit(x=X_train, \n",
    "          y=y_train, \n",
    "          epochs=600,\n",
    "          validation_data=(X_test, y_test), verbose=1,\n",
    "          callbacks=[early_stop]\n",
    "          )"
   ]
  },
  {
   "cell_type": "code",
   "execution_count": 32,
   "metadata": {},
   "outputs": [
    {
     "data": {
      "text/plain": [
       "<matplotlib.axes._subplots.AxesSubplot at 0x7fbcc1a8f710>"
      ]
     },
     "execution_count": 32,
     "metadata": {},
     "output_type": "execute_result"
    },
    {
     "data": {
      "image/png": "[encoded data removed]",
      "text/plain": [
       "<Figure size 432x288 with 1 Axes>"
      ]
     },
     "metadata": {
      "needs_background": "light"
     },
     "output_type": "display_data"
    }
   ],
   "source": [
    "losses = pd.DataFrame(model.history.history)\n",
    "losses.plot()"
   ]
  },
  {
   "cell_type": "code",
   "execution_count": 33,
   "metadata": {},
   "outputs": [],
   "source": [
    "# Hence in the above diagram our model has perfromed even better than standard loss."
   ]
  },
  {
   "cell_type": "code",
   "execution_count": 34,
   "metadata": {},
   "outputs": [],
   "source": [
    "# Now we predict our classes using test data :"
   ]
  },
  {
   "cell_type": "code",
   "execution_count": 35,
   "metadata": {},
   "outputs": [
    {
     "name": "stdout",
     "output_type": "stream",
     "text": [
      "WARNING:tensorflow:From <ipython-input-35-8606d0aa1254>:1: Sequential.predict_classes (from tensorflow.python.keras.engine.sequential) is deprecated and will be removed after 2021-01-01.\n",
      "Instructions for updating:\n",
      "Please use instead:* `np.argmax(model.predict(x), axis=-1)`,   if your model does multi-class classification   (e.g. if it uses a `softmax` last-layer activation).* `(model.predict(x) > 0.5).astype(\"int32\")`,   if your model does binary classification   (e.g. if it uses a `sigmoid` last-layer activation).\n"
     ]
    }
   ],
   "source": [
    "preds = model.predict_classes(X_test)\n",
    "\n",
    "# We use predict_classes instead of predict as we are predicting a class over here."
   ]
  },
  {
   "cell_type": "code",
   "execution_count": 36,
   "metadata": {},
   "outputs": [],
   "source": [
    "from sklearn.metrics import classification_report"
   ]
  },
  {
   "cell_type": "code",
   "execution_count": 37,
   "metadata": {},
   "outputs": [
    {
     "name": "stdout",
     "output_type": "stream",
     "text": [
      "              precision    recall  f1-score   support\n",
      "\n",
      "           0       0.95      0.98      0.96        55\n",
      "           1       0.99      0.97      0.98        88\n",
      "\n",
      "    accuracy                           0.97       143\n",
      "   macro avg       0.97      0.97      0.97       143\n",
      "weighted avg       0.97      0.97      0.97       143\n",
      "\n"
     ]
    }
   ],
   "source": [
    "print(classification_report(y_test,preds))"
   ]
  },
  {
   "cell_type": "markdown",
   "metadata": {},
   "source": [
    "Hence our model has performed pretty good"
   ]
  }
 ],
 "metadata": {
  "kernelspec": {
   "display_name": "Python 3",
   "language": "python",
   "name": "python3"
  },
  "language_info": {
   "codemirror_mode": {
    "name": "ipython",
    "version": 3
   },
   "file_extension": ".py",
   "mimetype": "text/x-python",
   "name": "python",
   "nbconvert_exporter": "python",
   "pygments_lexer": "ipython3",
   "version": "3.7.4"
  }
 },
 "nbformat": 4,
 "nbformat_minor": 2
}
